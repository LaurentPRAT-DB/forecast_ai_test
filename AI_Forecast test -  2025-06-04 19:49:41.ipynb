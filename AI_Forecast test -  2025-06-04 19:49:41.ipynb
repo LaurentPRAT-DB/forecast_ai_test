{
 "cells": [
  {
   "cell_type": "markdown",
   "metadata": {
    "application/vnd.databricks.v1+cell": {
     "cellMetadata": {},
     "inputWidgets": {},
     "nuid": "5eca21b0-c15a-4903-8717-86adca3493aa",
     "showTitle": false,
     "tableResultSettingsMap": {},
     "title": ""
    }
   },
   "source": [
    "# AI_Forecast test\n",
    "- sync with repo"
   ]
  },
  {
   "cell_type": "code",
   "execution_count": 0,
   "metadata": {
    "application/vnd.databricks.v1+cell": {
     "cellMetadata": {
      "byteLimit": 2048000,
      "rowLimit": 10000
     },
     "inputWidgets": {},
     "nuid": "e08047ad-c50d-4094-ba8a-5f1ac66a0ead",
     "showTitle": false,
     "tableResultSettingsMap": {},
     "title": ""
    }
   },
   "outputs": [
    {
     "output_type": "display_data",
     "data": {
      "text/html": [
       "<style scoped>\n",
       "  .table-result-container {\n",
       "    max-height: 300px;\n",
       "    overflow: auto;\n",
       "  }\n",
       "  table, th, td {\n",
       "    border: 1px solid black;\n",
       "    border-collapse: collapse;\n",
       "  }\n",
       "  th, td {\n",
       "    padding: 5px;\n",
       "  }\n",
       "  th {\n",
       "    text-align: left;\n",
       "  }\n",
       "</style><div class='table-result-container'><table class='table-result'><thead style='background-color: white'><tr><th>tpep_pickup_datetime</th><th>tpep_dropoff_datetime</th><th>trip_distance</th><th>fare_amount</th><th>pickup_zip</th><th>dropoff_zip</th></tr></thead><tbody><tr><td>2016-02-13T16:47:53.000-05:00</td><td>2016-02-13T16:57:15.000-05:00</td><td>1.4</td><td>8.0</td><td>10103</td><td>10110</td></tr><tr><td>2016-02-13T13:29:09.000-05:00</td><td>2016-02-13T13:37:23.000-05:00</td><td>1.31</td><td>7.5</td><td>10023</td><td>10023</td></tr><tr><td>2016-02-06T14:40:58.000-05:00</td><td>2016-02-06T14:52:32.000-05:00</td><td>1.8</td><td>9.5</td><td>10001</td><td>10018</td></tr><tr><td>2016-02-12T14:06:43.000-05:00</td><td>2016-02-12T14:20:54.000-05:00</td><td>2.3</td><td>11.5</td><td>10044</td><td>10111</td></tr><tr><td>2016-02-23T05:27:56.000-05:00</td><td>2016-02-23T05:58:33.000-05:00</td><td>2.6</td><td>18.5</td><td>10199</td><td>10022</td></tr><tr><td>2016-02-12T19:41:43.000-05:00</td><td>2016-02-12T19:46:52.000-05:00</td><td>1.4</td><td>6.5</td><td>10023</td><td>10069</td></tr><tr><td>2016-02-18T18:49:53.000-05:00</td><td>2016-02-18T19:12:53.000-05:00</td><td>10.4</td><td>31.0</td><td>11371</td><td>10003</td></tr><tr><td>2016-02-18T15:21:45.000-05:00</td><td>2016-02-18T15:38:23.000-05:00</td><td>10.15</td><td>28.5</td><td>11371</td><td>11201</td></tr><tr><td>2016-02-03T05:47:50.000-05:00</td><td>2016-02-03T06:07:06.000-05:00</td><td>3.27</td><td>15.0</td><td>10014</td><td>10023</td></tr><tr><td>2016-02-18T20:26:39.000-05:00</td><td>2016-02-18T20:40:01.000-05:00</td><td>4.42</td><td>15.0</td><td>10003</td><td>11222</td></tr></tbody></table></div>"
      ]
     },
     "metadata": {
      "application/vnd.databricks.v1+output": {
       "addedWidgets": {},
       "aggData": [],
       "aggError": "",
       "aggOverflow": false,
       "aggSchema": [],
       "aggSeriesLimitReached": false,
       "aggType": "",
       "arguments": {},
       "columnCustomDisplayInfos": {},
       "data": [
        [
         "2016-02-13T16:47:53.000-05:00",
         "2016-02-13T16:57:15.000-05:00",
         1.4,
         8.0,
         10103,
         10110
        ],
        [
         "2016-02-13T13:29:09.000-05:00",
         "2016-02-13T13:37:23.000-05:00",
         1.31,
         7.5,
         10023,
         10023
        ],
        [
         "2016-02-06T14:40:58.000-05:00",
         "2016-02-06T14:52:32.000-05:00",
         1.8,
         9.5,
         10001,
         10018
        ],
        [
         "2016-02-12T14:06:43.000-05:00",
         "2016-02-12T14:20:54.000-05:00",
         2.3,
         11.5,
         10044,
         10111
        ],
        [
         "2016-02-23T05:27:56.000-05:00",
         "2016-02-23T05:58:33.000-05:00",
         2.6,
         18.5,
         10199,
         10022
        ],
        [
         "2016-02-12T19:41:43.000-05:00",
         "2016-02-12T19:46:52.000-05:00",
         1.4,
         6.5,
         10023,
         10069
        ],
        [
         "2016-02-18T18:49:53.000-05:00",
         "2016-02-18T19:12:53.000-05:00",
         10.4,
         31.0,
         11371,
         10003
        ],
        [
         "2016-02-18T15:21:45.000-05:00",
         "2016-02-18T15:38:23.000-05:00",
         10.15,
         28.5,
         11371,
         11201
        ],
        [
         "2016-02-03T05:47:50.000-05:00",
         "2016-02-03T06:07:06.000-05:00",
         3.27,
         15.0,
         10014,
         10023
        ],
        [
         "2016-02-18T20:26:39.000-05:00",
         "2016-02-18T20:40:01.000-05:00",
         4.42,
         15.0,
         10003,
         11222
        ]
       ],
       "datasetInfos": [],
       "dbfsResultPath": null,
       "isJsonSchema": true,
       "metadata": {},
       "overflow": false,
       "plotOptions": {
        "customPlotOptions": {},
        "displayType": "table",
        "pivotAggregation": null,
        "pivotColumns": null,
        "xColumns": null,
        "yColumns": null
       },
       "removedWidgets": [],
       "schema": [
        {
         "metadata": "{}",
         "name": "tpep_pickup_datetime",
         "type": "\"timestamp\""
        },
        {
         "metadata": "{}",
         "name": "tpep_dropoff_datetime",
         "type": "\"timestamp\""
        },
        {
         "metadata": "{}",
         "name": "trip_distance",
         "type": "\"double\""
        },
        {
         "metadata": "{}",
         "name": "fare_amount",
         "type": "\"double\""
        },
        {
         "metadata": "{}",
         "name": "pickup_zip",
         "type": "\"integer\""
        },
        {
         "metadata": "{}",
         "name": "dropoff_zip",
         "type": "\"integer\""
        }
       ],
       "type": "table"
      }
     },
     "output_type": "display_data"
    }
   ],
   "source": [
    "%sql\n",
    "  SELECT\n",
    "    *\n",
    "  FROM\n",
    "    samples.nyctaxi.trips\n",
    "  LIMIT 10"
   ]
  },
  {
   "cell_type": "code",
   "execution_count": 0,
   "metadata": {
    "application/vnd.databricks.v1+cell": {
     "cellMetadata": {
      "byteLimit": 2048000,
      "rowLimit": 10000
     },
     "inputWidgets": {},
     "nuid": "df5f8eef-69ac-4c6f-aea7-ae8614240521",
     "showTitle": false,
     "tableResultSettingsMap": {},
     "title": ""
    }
   },
   "outputs": [
    {
     "output_type": "display_data",
     "data": {
      "text/html": [
       "<style scoped>\n",
       "  .table-result-container {\n",
       "    max-height: 300px;\n",
       "    overflow: auto;\n",
       "  }\n",
       "  table, th, td {\n",
       "    border: 1px solid black;\n",
       "    border-collapse: collapse;\n",
       "  }\n",
       "  th, td {\n",
       "    padding: 5px;\n",
       "  }\n",
       "  th {\n",
       "    text-align: left;\n",
       "  }\n",
       "</style><div class='table-result-container'><table class='table-result'><thead style='background-color: white'><tr><th>latest_date</th></tr></thead><tbody><tr><td>2016-02-29T18:51:20.000-05:00</td></tr></tbody></table></div>"
      ]
     },
     "metadata": {
      "application/vnd.databricks.v1+output": {
       "addedWidgets": {},
       "aggData": [],
       "aggError": "",
       "aggOverflow": false,
       "aggSchema": [],
       "aggSeriesLimitReached": false,
       "aggType": "",
       "arguments": {},
       "columnCustomDisplayInfos": {},
       "data": [
        [
         "2016-02-29T18:51:20.000-05:00"
        ]
       ],
       "datasetInfos": [],
       "dbfsResultPath": null,
       "isJsonSchema": true,
       "metadata": {},
       "overflow": false,
       "plotOptions": {
        "customPlotOptions": {},
        "displayType": "table",
        "pivotAggregation": null,
        "pivotColumns": null,
        "xColumns": null,
        "yColumns": null
       },
       "removedWidgets": [],
       "schema": [
        {
         "metadata": "{}",
         "name": "latest_date",
         "type": "\"timestamp\""
        }
       ],
       "type": "table"
      }
     },
     "output_type": "display_data"
    }
   ],
   "source": [
    "%sql\n",
    "SELECT MAX(tpep_pickup_datetime) AS latest_date\n",
    "FROM samples.nyctaxi.trips\n",
    "\n"
   ]
  },
  {
   "cell_type": "code",
   "execution_count": 0,
   "metadata": {
    "application/vnd.databricks.v1+cell": {
     "cellMetadata": {
      "byteLimit": 2048000,
      "implicitDf": true,
      "rowLimit": 10000
     },
     "inputWidgets": {},
     "nuid": "4475d6b5-7e45-486a-aeec-f82f664560be",
     "showTitle": false,
     "tableResultSettingsMap": {},
     "title": ""
    }
   },
   "outputs": [
    {
     "output_type": "display_data",
     "data": {
      "text/html": [
       "<style scoped>\n",
       "  .table-result-container {\n",
       "    max-height: 300px;\n",
       "    overflow: auto;\n",
       "  }\n",
       "  table, th, td {\n",
       "    border: 1px solid black;\n",
       "    border-collapse: collapse;\n",
       "  }\n",
       "  th, td {\n",
       "    padding: 5px;\n",
       "  }\n",
       "  th {\n",
       "    text-align: left;\n",
       "  }\n",
       "</style><div class='table-result-container'><table class='table-result'><thead style='background-color: white'><tr><th>ds</th><th>revenue_forecast</th><th>revenue_upper</th><th>revenue_lower</th></tr></thead><tbody><tr><td>2016-03-01</td><td>4927.735299731122</td><td>6068.71022076724</td><td>1896.4960547886349</td></tr><tr><td>2016-03-02</td><td>5232.673432251758</td><td>6377.364775064025</td><td>2201.434187309271</td></tr><tr><td>2016-03-03</td><td>5538.665786716383</td><td>6687.068126137148</td><td>2507.426541773896</td></tr><tr><td>2016-03-04</td><td>5888.341400468231</td><td>7040.44920620371</td><td>2857.102155525744</td></tr><tr><td>2016-03-05</td><td>5228.777292899493</td><td>6384.584930191806</td><td>2197.538047957006</td></tr><tr><td>2016-03-06</td><td>4198.611991674464</td><td>5358.113721974635</td><td>1167.3727467319768</td></tr><tr><td>2016-03-07</td><td>4729.1304920639495</td><td>5892.320473715684</td><td>1697.8912471214626</td></tr><tr><td>2016-03-08</td><td>5064.782691871815</td><td>6231.6549808059</td><td>2033.5434469293277</td></tr><tr><td>2016-03-09</td><td>5369.720824392466</td><td>6540.269374831617</td><td>2338.481579449979</td></tr><tr><td>2016-03-10</td><td>5675.713178857074</td><td>6849.931844031054</td><td>2644.473933914587</td></tr><tr><td>2016-03-11</td><td>6025.388792608918</td><td>7203.271325479753</td><td>2994.1495476664313</td></tr><tr><td>2016-03-12</td><td>5365.824685040205</td><td>6547.364739037317</td><td>2334.5854400977178</td></tr><tr><td>2016-03-13</td><td>4335.659383815145</td><td>5520.850513580237</td><td>1304.4201388726578</td></tr><tr><td>2016-03-14</td><td>4866.177884204638</td><td>6055.01354634613</td><td>1834.938639262151</td></tr><tr><td>2016-03-15</td><td>5201.8300840125</td><td>6394.303637869348</td><td>2170.5908390700133</td></tr><tr><td>2016-03-16</td><td>5506.7682165331535</td><td>6702.872924947861</td><td>2475.5289715906665</td></tr><tr><td>2016-03-17</td><td>5812.760570997761</td><td>7012.489601098408</td><td>2781.5213260552737</td></tr><tr><td>2016-03-18</td><td>6162.436184749607</td><td>7365.782608740692</td><td>3131.1969398071196</td></tr><tr><td>2016-03-19</td><td>5502.872077180887</td><td>6709.828873142816</td><td>2471.6328322383997</td></tr><tr><td>2016-03-20</td><td>4472.706775955845</td><td>5683.266828652855</td><td>1441.467531013358</td></tr><tr><td>2016-03-21</td><td>5003.225276345324</td><td>6217.381378041673</td><td>1971.9860314028374</td></tr><tr><td>2016-03-22</td><td>5338.877476153193</td><td>6556.622327437408</td><td>2307.638231210706</td></tr><tr><td>2016-03-23</td><td>5643.81560867386</td><td>6865.141819290862</td><td>2612.576363731373</td></tr><tr><td>2016-03-24</td><td>5949.807963138463</td><td>7174.708052829367</td><td>2918.5687181959756</td></tr><tr><td>2016-03-25</td><td>6299.48357689032</td><td>7527.949976239723</td><td>3268.2443319478334</td></tr><tr><td>2016-03-26</td><td>5639.91946932158</td><td>6871.944520612133</td><td>2608.6802243790935</td></tr><tr><td>2016-03-27</td><td>4609.754168096536</td><td>5845.330126170615</td><td>1578.514923154049</td></tr><tr><td>2016-03-28</td><td>5140.272668486023</td><td>6379.391701614296</td><td>2109.0334235435357</td></tr><tr><td>2016-03-29</td><td>5475.924868293896</td><td>6718.5790590505885</td><td>2444.685623351409</td></tr><tr><td>2016-03-30</td><td>5780.863000814526</td><td>7027.044346959187</td><td>2749.6237558720386</td></tr></tbody></table></div>"
      ]
     },
     "metadata": {
      "application/vnd.databricks.v1+output": {
       "addedWidgets": {},
       "aggData": [],
       "aggError": "",
       "aggOverflow": false,
       "aggSchema": [],
       "aggSeriesLimitReached": false,
       "aggType": "",
       "arguments": {},
       "columnCustomDisplayInfos": {},
       "data": [
        [
         "2016-03-01",
         4927.735299731122,
         6068.71022076724,
         1896.4960547886349
        ],
        [
         "2016-03-02",
         5232.673432251758,
         6377.364775064025,
         2201.434187309271
        ],
        [
         "2016-03-03",
         5538.665786716383,
         6687.068126137148,
         2507.426541773896
        ],
        [
         "2016-03-04",
         5888.341400468231,
         7040.44920620371,
         2857.102155525744
        ],
        [
         "2016-03-05",
         5228.777292899493,
         6384.584930191806,
         2197.538047957006
        ],
        [
         "2016-03-06",
         4198.611991674464,
         5358.113721974635,
         1167.3727467319768
        ],
        [
         "2016-03-07",
         4729.1304920639495,
         5892.320473715684,
         1697.8912471214626
        ],
        [
         "2016-03-08",
         5064.782691871815,
         6231.6549808059,
         2033.5434469293277
        ],
        [
         "2016-03-09",
         5369.720824392466,
         6540.269374831617,
         2338.481579449979
        ],
        [
         "2016-03-10",
         5675.713178857074,
         6849.931844031054,
         2644.473933914587
        ],
        [
         "2016-03-11",
         6025.388792608918,
         7203.271325479753,
         2994.1495476664313
        ],
        [
         "2016-03-12",
         5365.824685040205,
         6547.364739037317,
         2334.5854400977178
        ],
        [
         "2016-03-13",
         4335.659383815145,
         5520.850513580237,
         1304.4201388726578
        ],
        [
         "2016-03-14",
         4866.177884204638,
         6055.01354634613,
         1834.938639262151
        ],
        [
         "2016-03-15",
         5201.8300840125,
         6394.303637869348,
         2170.5908390700133
        ],
        [
         "2016-03-16",
         5506.7682165331535,
         6702.872924947861,
         2475.5289715906665
        ],
        [
         "2016-03-17",
         5812.760570997761,
         7012.489601098408,
         2781.5213260552737
        ],
        [
         "2016-03-18",
         6162.436184749607,
         7365.782608740692,
         3131.1969398071196
        ],
        [
         "2016-03-19",
         5502.872077180887,
         6709.828873142816,
         2471.6328322383997
        ],
        [
         "2016-03-20",
         4472.706775955845,
         5683.266828652855,
         1441.467531013358
        ],
        [
         "2016-03-21",
         5003.225276345324,
         6217.381378041673,
         1971.9860314028374
        ],
        [
         "2016-03-22",
         5338.877476153193,
         6556.622327437408,
         2307.638231210706
        ],
        [
         "2016-03-23",
         5643.81560867386,
         6865.141819290862,
         2612.576363731373
        ],
        [
         "2016-03-24",
         5949.807963138463,
         7174.708052829367,
         2918.5687181959756
        ],
        [
         "2016-03-25",
         6299.48357689032,
         7527.949976239723,
         3268.2443319478334
        ],
        [
         "2016-03-26",
         5639.91946932158,
         6871.944520612133,
         2608.6802243790935
        ],
        [
         "2016-03-27",
         4609.754168096536,
         5845.330126170615,
         1578.514923154049
        ],
        [
         "2016-03-28",
         5140.272668486023,
         6379.391701614296,
         2109.0334235435357
        ],
        [
         "2016-03-29",
         5475.924868293896,
         6718.5790590505885,
         2444.685623351409
        ],
        [
         "2016-03-30",
         5780.863000814526,
         7027.044346959187,
         2749.6237558720386
        ]
       ],
       "datasetInfos": [],
       "dbfsResultPath": null,
       "isJsonSchema": true,
       "metadata": {},
       "overflow": false,
       "plotOptions": {
        "customPlotOptions": {},
        "displayType": "table",
        "pivotAggregation": null,
        "pivotColumns": null,
        "xColumns": null,
        "yColumns": null
       },
       "removedWidgets": [],
       "schema": [
        {
         "metadata": "{}",
         "name": "ds",
         "type": "\"date\""
        },
        {
         "metadata": "{}",
         "name": "revenue_forecast",
         "type": "\"double\""
        },
        {
         "metadata": "{}",
         "name": "revenue_upper",
         "type": "\"double\""
        },
        {
         "metadata": "{}",
         "name": "revenue_lower",
         "type": "\"double\""
        }
       ],
       "type": "table"
      }
     },
     "output_type": "display_data"
    },
    {
     "output_type": "display_data",
     "data": {
      "text/plain": [
       "Databricks visualization. Run in Databricks to view."
      ]
     },
     "metadata": {
      "application/vnd.databricks.v1.subcommand+json": {
       "baseErrorDetails": null,
       "bindings": {},
       "collapsed": false,
       "command": "%sql WITH q AS (WITH\naggregated AS (\n  SELECT\n    DATE(tpep_pickup_datetime) AS ds,\n    SUM(fare_amount) AS revenue\n  FROM\n    samples.nyctaxi.trips\n  GROUP BY\n    1\n)\nSELECT * FROM AI_FORECAST(\n  TABLE(aggregated),\n  horizon => '2016-03-31',\n  time_col => 'ds',\n  value_col => 'revenue'\n)) SELECT `ds`,`revenue_forecast`,`revenue_upper`,`revenue_lower` FROM q",
       "commandTitle": "Visualization 1",
       "commandType": "auto",
       "commandVersion": 0,
       "commentThread": [],
       "commentsVisible": false,
       "contentSha256Hex": null,
       "customPlotOptions": {
        "redashChart": [
         {
          "key": "type",
          "value": "CHART"
         },
         {
          "key": "options",
          "value": {
           "alignYAxesAtZero": true,
           "coefficient": 1,
           "columnConfigurationMap": {
            "x": {
             "column": "ds",
             "id": "column_cbf2eb70444"
            },
            "y": [
             {
              "column": "revenue_forecast",
              "id": "column_cbf2eb70452"
             },
             {
              "column": "revenue_upper",
              "id": "column_cbf2eb70454"
             },
             {
              "column": "revenue_lower",
              "id": "column_cbf2eb70456"
             }
            ]
           },
           "dateTimeFormat": "DD/MM/YYYY HH:mm",
           "direction": {
            "type": "counterclockwise"
           },
           "error_y": {
            "type": "data",
            "visible": true
           },
           "globalSeriesType": "line",
           "isAggregationOn": false,
           "legend": {
            "traceorder": "normal"
           },
           "missingValuesAsZero": true,
           "numberFormat": "0,0.[00000]",
           "percentFormat": "0[.]00%",
           "series": {
            "error_y": {
             "type": "data",
             "visible": true
            },
            "stacking": null
           },
           "seriesOptions": {
            "revenue_forecast": {
             "type": "line",
             "yAxis": 0
            },
            "revenue_lower": {
             "type": "line",
             "yAxis": 0
            },
            "revenue_upper": {
             "type": "line",
             "yAxis": 0
            }
           },
           "showDataLabels": false,
           "sizemode": "diameter",
           "sortX": true,
           "sortY": true,
           "swappedAxes": false,
           "textFormat": "",
           "useAggregationsUi": true,
           "valuesOptions": {},
           "version": 2,
           "xAxis": {
            "labels": {
             "enabled": true
            },
            "type": "-"
           },
           "yAxis": [
            {
             "type": "-"
            },
            {
             "opposite": true,
             "type": "-"
            }
           ]
          }
         }
        ]
       },
       "datasetPreviewNameToCmdIdMap": {},
       "diffDeletes": [],
       "diffInserts": [],
       "displayType": "redashChart",
       "error": null,
       "errorDetails": null,
       "errorSummary": null,
       "errorTraceType": null,
       "finishTime": 0,
       "globalVars": {},
       "guid": "",
       "height": "auto",
       "hideCommandCode": false,
       "hideCommandResult": false,
       "iPythonMetadata": null,
       "inputWidgets": {},
       "isLockedInExamMode": false,
       "latestUser": "a user",
       "latestUserId": null,
       "listResultMetadata": null,
       "metadata": {},
       "nuid": "9a8a01f9-67ff-422b-be27-da3536292300",
       "origId": 0,
       "parentHierarchy": [],
       "pivotAggregation": null,
       "pivotColumns": null,
       "position": 3.0,
       "resultDbfsErrorMessage": null,
       "resultDbfsStatus": "INLINED_IN_TREE",
       "results": null,
       "showCommandTitle": false,
       "startTime": 0,
       "state": "input",
       "streamStates": {},
       "subcommandOptions": {
        "queryPlan": {
         "selects": [
          {
           "column": "ds",
           "type": "column"
          },
          {
           "column": "revenue_forecast",
           "type": "column"
          },
          {
           "column": "revenue_upper",
           "type": "column"
          },
          {
           "column": "revenue_lower",
           "type": "column"
          }
         ]
        }
       },
       "submitTime": 0,
       "subtype": "tableResultSubCmd.visualization",
       "tableResultIndex": 0,
       "tableResultSettingsMap": {},
       "useConsistentColors": false,
       "version": "CommandV1",
       "width": "auto",
       "workflows": [],
       "xColumns": null,
       "yColumns": null
      }
     },
     "output_type": "display_data"
    }
   ],
   "source": [
    "%sql\n",
    "WITH\n",
    "aggregated AS (\n",
    "  SELECT\n",
    "    DATE(tpep_pickup_datetime) AS ds,\n",
    "    SUM(fare_amount) AS revenue\n",
    "  FROM\n",
    "    samples.nyctaxi.trips\n",
    "  GROUP BY\n",
    "    1\n",
    ")\n",
    "SELECT * FROM AI_FORECAST(\n",
    "  TABLE(aggregated),\n",
    "  horizon => '2016-03-31',\n",
    "  time_col => 'ds',\n",
    "  value_col => 'revenue'\n",
    ")"
   ]
  },
  {
   "cell_type": "code",
   "execution_count": 0,
   "metadata": {
    "application/vnd.databricks.v1+cell": {
     "cellMetadata": {},
     "inputWidgets": {},
     "nuid": "7dd21ad3-e14a-4d1f-a66d-6493c36e6f98",
     "showTitle": false,
     "tableResultSettingsMap": {},
     "title": ""
    }
   },
   "outputs": [],
   "source": []
  }
 ],
 "metadata": {
  "application/vnd.databricks.v1+notebook": {
   "computePreferences": null,
   "dashboards": [],
   "environmentMetadata": {
    "base_environment": "",
    "environment_version": "2"
   },
   "inputWidgetPreferences": null,
   "language": "python",
   "notebookMetadata": {
    "mostRecentlyExecutedCommandWithImplicitDF": {
     "commandId": -1,
     "dataframes": [
      "_sqldf"
     ]
    },
    "pythonIndentUnit": 2
   },
   "notebookName": "AI_Forecast test -  2025-06-04 19:49:41",
   "widgets": {}
  },
  "language_info": {
   "name": "python"
  }
 },
 "nbformat": 4,
 "nbformat_minor": 0
}
